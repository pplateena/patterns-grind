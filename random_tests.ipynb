{
 "cells": [
  {
   "cell_type": "code",
   "execution_count": 21,
   "id": "initial_id",
   "metadata": {
    "collapsed": true,
    "ExecuteTime": {
     "end_time": "2024-09-04T10:35:53.359657100Z",
     "start_time": "2024-09-04T10:35:53.335957Z"
    }
   },
   "outputs": [
    {
     "name": "stdout",
     "output_type": "stream",
     "text": [
      "{('a', 'b', 'c')}\n",
      "{'b', 'a', 'c'}\n",
      "{'a', 'c', 'v'}\n",
      "{'s', 'v', 'c'}\n"
     ]
    }
   ],
   "source": [
    "s = {('a', 'b', 'c')}\n",
    "print(s)\n",
    "t = ('a', 'b', 'c')\n",
    "\n",
    "s = set(t)\n",
    "print(s)\n",
    "\n",
    "s = set(('cav'))\n",
    "print(s)\n",
    "s = {'c'}\n",
    "s.update('scv')\n",
    "print(s)"
   ]
  },
  {
   "cell_type": "code",
   "outputs": [
    {
     "name": "stdout",
     "output_type": "stream",
     "text": [
      "s\n",
      "v\n",
      "c\n"
     ]
    }
   ],
   "source": [
    "for n in range(len(s)):\n",
    "    print(s.pop())"
   ],
   "metadata": {
    "collapsed": false,
    "ExecuteTime": {
     "end_time": "2024-09-04T10:36:17.062350300Z",
     "start_time": "2024-09-04T10:36:17.031428300Z"
    }
   },
   "id": "b471fa08262bb059",
   "execution_count": 22
  },
  {
   "cell_type": "code",
   "outputs": [
    {
     "name": "stdout",
     "output_type": "stream",
     "text": [
      "{'e', 'a', 'f', 'b', 'c'} {'c'}\n",
      "{'b', 'a'} {'e', 'f'}\n",
      "{'a', 'b', 'e', 'f'}\n"
     ]
    }
   ],
   "source": [
    "a = {'a','b','c'}\n",
    "b = {'c','e','f'}\n",
    "\n",
    "# united = a.union(b)\n",
    "united = a | b\n",
    "# intersected = b.intersection(a)\n",
    "intersected = a & b\n",
    "print(united, intersected)\n",
    "\n",
    "# diff1 = a.difference(b)\n",
    "# diff2 = b.difference(a)\n",
    "diff1 = a - b\n",
    "diff2 = b - a\n",
    "print(diff1, diff2)\n",
    "\n",
    "symmetric_diff = a.symmetric_difference(b)\n",
    "symmetric_diff = a ^ b\n",
    "print(symmetric_diff)"
   ],
   "metadata": {
    "collapsed": false,
    "ExecuteTime": {
     "end_time": "2024-09-04T10:42:38.824052200Z",
     "start_time": "2024-09-04T10:42:38.801601Z"
    }
   },
   "id": "a2f1d64b7522545a",
   "execution_count": 37
  },
  {
   "cell_type": "code",
   "outputs": [
    {
     "name": "stdout",
     "output_type": "stream",
     "text": [
      "{1, 2, 3, 4, 5, 6, 7, 8, 9}\n",
      "{4, 5, 6, 7, 8, 9}\n",
      "{4, 5, 6}\n",
      "{8, 7, 9}\n"
     ]
    }
   ],
   "source": [
    "a = {1, 2, 3, 4, 5, 6}\n",
    "b = {4, 5, 6, 7, 8, 9}\n",
    "a.update(b)          # a \"union\" operation\n",
    "print(a)\n",
    "\n",
    "a &= b               # the \"intersection\" operation\n",
    "print(a)\n",
    "\n",
    "a -= set((7, 8, 9))  # the \"difference\" operation\n",
    "print(a)\n",
    "\n",
    "a ^= b               # the \"symmetric difference\" operation\n",
    "print(a)\n"
   ],
   "metadata": {
    "collapsed": false,
    "ExecuteTime": {
     "end_time": "2024-09-04T10:44:10.205520300Z",
     "start_time": "2024-09-04T10:44:10.186059600Z"
    }
   },
   "id": "4c1530839326990e",
   "execution_count": 39
  },
  {
   "cell_type": "code",
   "outputs": [
    {
     "name": "stdout",
     "output_type": "stream",
     "text": [
      "{frozenset({1, 2, 3, 4}): 'hello', frozenset({'y', 'x', 'z', 'w'}): 'world'}\n"
     ]
    }
   ],
   "source": [
    "a = frozenset((1, 2, 3, 4))\n",
    "b = frozenset((\"w\", \"x\", \"y\", \"z\"))\n",
    "d = {a: \"hello\", b: \"world\"}\n",
    "print(d)"
   ],
   "metadata": {
    "collapsed": false,
    "ExecuteTime": {
     "end_time": "2024-09-04T10:45:40.488105400Z",
     "start_time": "2024-09-04T10:45:40.481029500Z"
    }
   },
   "id": "a26bc29135c0eba1",
   "execution_count": 40
  }
 ],
 "metadata": {
  "kernelspec": {
   "display_name": "Python 3",
   "language": "python",
   "name": "python3"
  },
  "language_info": {
   "codemirror_mode": {
    "name": "ipython",
    "version": 2
   },
   "file_extension": ".py",
   "mimetype": "text/x-python",
   "name": "python",
   "nbconvert_exporter": "python",
   "pygments_lexer": "ipython2",
   "version": "2.7.6"
  }
 },
 "nbformat": 4,
 "nbformat_minor": 5
}
