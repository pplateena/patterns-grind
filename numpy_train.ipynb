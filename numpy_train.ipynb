{
 "cells": [
  {
   "cell_type": "code",
   "execution_count": 8,
   "id": "initial_id",
   "metadata": {
    "collapsed": true,
    "ExecuteTime": {
     "end_time": "2024-09-04T09:03:42.762914700Z",
     "start_time": "2024-09-04T09:03:42.674151100Z"
    }
   },
   "outputs": [],
   "source": [
    "import numpy as np\n"
   ]
  },
  {
   "cell_type": "code",
   "outputs": [
    {
     "data": {
      "text/plain": "array([1, 3, 5, 7, 9])"
     },
     "execution_count": 9,
     "metadata": {},
     "output_type": "execute_result"
    }
   ],
   "source": [
    "arr = np.arange(1, 10, 2)  # Creates an array from 1 to 10 (exclusive) with a step of 2\n",
    "arr"
   ],
   "metadata": {
    "collapsed": false,
    "ExecuteTime": {
     "end_time": "2024-09-04T09:03:42.790683800Z",
     "start_time": "2024-09-04T09:03:42.773884700Z"
    }
   },
   "id": "d9957efa4c4b42f3",
   "execution_count": 9
  },
  {
   "cell_type": "code",
   "outputs": [
    {
     "name": "stdout",
     "output_type": "stream",
     "text": [
      "2 (2, 3)\n"
     ]
    }
   ],
   "source": [
    "arr = np.array([[1, 2, 3], [4, 5, 6]])\n",
    "dimensions = arr.ndim \n",
    "shape = arr.shape  \n",
    "print(dimensions, shape)"
   ],
   "metadata": {
    "collapsed": false,
    "ExecuteTime": {
     "end_time": "2024-09-04T09:03:42.843064500Z",
     "start_time": "2024-09-04T09:03:42.798662600Z"
    }
   },
   "id": "a3cfdf4c8b938c45",
   "execution_count": 10
  },
  {
   "cell_type": "code",
   "outputs": [
    {
     "name": "stdout",
     "output_type": "stream",
     "text": [
      "[[0. 0. 0. 0.]\n",
      " [0. 0. 0. 0.]\n",
      " [0. 0. 0. 0.]]\n"
     ]
    },
    {
     "data": {
      "text/plain": "array([[1., 1.],\n       [1., 1.]])"
     },
     "execution_count": 11,
     "metadata": {},
     "output_type": "execute_result"
    }
   ],
   "source": [
    "zeros_array = np.zeros((3, 4))  # Creates a 3×4 array filled with zeros\n",
    "ones_array = np.ones((2, 2))    # Creates a 2×2 array filled with ones\n",
    "print(zeros_array)\n",
    "ones_array"
   ],
   "metadata": {
    "collapsed": false,
    "ExecuteTime": {
     "end_time": "2024-09-04T09:03:42.865006800Z",
     "start_time": "2024-09-04T09:03:42.811846100Z"
    }
   },
   "id": "9797a41a798102a",
   "execution_count": 11
  },
  {
   "cell_type": "markdown",
   "source": [
    "# Element wise operations can be performed by + * - or by functions like add(), multiply(), subtract()"
   ],
   "metadata": {
    "collapsed": false
   },
   "id": "8584bca1ee542a93"
  },
  {
   "cell_type": "code",
   "outputs": [
    {
     "data": {
      "text/plain": "array([ 4, 10, 18])"
     },
     "execution_count": 15,
     "metadata": {},
     "output_type": "execute_result"
    }
   ],
   "source": [
    "A = np.array([1, 2, 3])\n",
    "B = np.array([4, 5, 6])\n",
    "result = A * B  # Element-wise multiplication using the * operator\n",
    "# Alternatively:\n",
    "# result = np.multiply(A, B)  # Using np.multiply() function\n",
    "result"
   ],
   "metadata": {
    "collapsed": false,
    "ExecuteTime": {
     "end_time": "2024-09-04T09:06:31.385732700Z",
     "start_time": "2024-09-04T09:06:31.351293800Z"
    }
   },
   "id": "68001d7d74b70a32",
   "execution_count": 15
  },
  {
   "cell_type": "markdown",
   "source": [
    "# Fast way to perform element wise operations like square root"
   ],
   "metadata": {
    "collapsed": false
   },
   "id": "c23a9caa511cb4dd"
  },
  {
   "cell_type": "code",
   "outputs": [
    {
     "data": {
      "text/plain": "array([1.        , 1.41421356, 1.73205081])"
     },
     "execution_count": 17,
     "metadata": {},
     "output_type": "execute_result"
    }
   ],
   "source": [
    "arr = np.array([1, 2, 3])\n",
    "# Using a ufunc to calculate the square root element-wise\n",
    "result = np.sqrt(arr)\n",
    "result"
   ],
   "metadata": {
    "collapsed": false,
    "ExecuteTime": {
     "end_time": "2024-09-04T09:06:47.849610700Z",
     "start_time": "2024-09-04T09:06:47.826385300Z"
    }
   },
   "id": "d92e58db58174a12",
   "execution_count": 17
  },
  {
   "cell_type": "code",
   "outputs": [
    {
     "name": "stdout",
     "output_type": "stream",
     "text": [
      "[[1 2 5 6]\n",
      " [3 4 1 1]]\n"
     ]
    },
    {
     "data": {
      "text/plain": "array([[1, 2],\n       [3, 4],\n       [5, 6],\n       [1, 1]])"
     },
     "execution_count": 22,
     "metadata": {},
     "output_type": "execute_result"
    }
   ],
   "source": [
    "A = np.array([[1, 2], [3, 4]])\n",
    "B = np.array([[5, 6], [1, 1]])\n",
    "\n",
    "result_horizontal = np.hstack((A, B))\n",
    "result_vertical = np.vstack((A, B))\n",
    "\n",
    "print(result_horizontal)\n",
    "result_vertical"
   ],
   "metadata": {
    "collapsed": false,
    "ExecuteTime": {
     "end_time": "2024-09-04T09:40:00.097066400Z",
     "start_time": "2024-09-04T09:40:00.060772100Z"
    }
   },
   "id": "98dcae82bc7c52c9",
   "execution_count": 22
  },
  {
   "cell_type": "code",
   "outputs": [
    {
     "data": {
      "text/plain": "array([[ 0,  1,  2,  3,  4],\n       [ 5,  6,  7,  8,  9],\n       [10, 11, 12, 13, 14],\n       [15, 16, 17, 18, 19]])"
     },
     "execution_count": 41,
     "metadata": {},
     "output_type": "execute_result"
    }
   ],
   "source": [
    "arr = np.arange(20)\n",
    "reshaped = np.reshape(arr, (4,5))\n",
    "reshaped"
   ],
   "metadata": {
    "collapsed": false,
    "ExecuteTime": {
     "end_time": "2024-09-04T09:43:41.897076500Z",
     "start_time": "2024-09-04T09:43:41.855189100Z"
    }
   },
   "id": "143820a45f6c762e",
   "execution_count": 41
  },
  {
   "cell_type": "code",
   "outputs": [
    {
     "name": "stdout",
     "output_type": "stream",
     "text": [
      "(3,) (3, 1)\n"
     ]
    }
   ],
   "source": [
    "arr = np.array([1, 2, 3])\n",
    "column_vector = arr[:, np.newaxis]  # Convert to a column vector\n",
    "print(arr.shape, column_vector.shape)"
   ],
   "metadata": {
    "collapsed": false,
    "ExecuteTime": {
     "end_time": "2024-09-04T09:46:02.549850100Z",
     "start_time": "2024-09-04T09:46:02.514433300Z"
    }
   },
   "id": "48865c4e3d7d50af",
   "execution_count": 53
  },
  {
   "cell_type": "markdown",
   "source": [
    "NumPy broadcasting rules apply when performing operations on arrays of different shapes. Broadcasting allows NumPy to operate on these arrays without the need for explicit expansion."
   ],
   "metadata": {
    "collapsed": false
   },
   "id": "16b1158623ee7ae9"
  },
  {
   "cell_type": "code",
   "outputs": [
    {
     "data": {
      "text/plain": "array([[11, 22, 33],\n       [14, 25, 36]])"
     },
     "execution_count": 55,
     "metadata": {},
     "output_type": "execute_result"
    }
   ],
   "source": [
    "A = np.array([[1, 2, 3], [4, 5, 6]])\n",
    "B = np.array([10, 20, 30])\n",
    "result = A + B  # Broadcasting the smaller array B to match the shape of A\n",
    "result"
   ],
   "metadata": {
    "collapsed": false,
    "ExecuteTime": {
     "end_time": "2024-09-04T09:47:47.423310900Z",
     "start_time": "2024-09-04T09:47:47.386528500Z"
    }
   },
   "id": "8339102bbfc0a34b",
   "execution_count": 55
  },
  {
   "cell_type": "markdown",
   "source": [
    "np.linspace(start, stop, num)"
   ],
   "metadata": {
    "collapsed": false
   },
   "id": "dc166f3cf4b7c942"
  },
  {
   "cell_type": "code",
   "outputs": [
    {
     "data": {
      "text/plain": "array([ 1.  ,  3.25,  5.5 ,  7.75, 10.  ])"
     },
     "execution_count": 56,
     "metadata": {},
     "output_type": "execute_result"
    }
   ],
   "source": [
    "\n",
    "sequence = np.linspace(1, 10, 5)  # Creates an array with 5 evenly spaced values from 1 to 10\n",
    "sequence"
   ],
   "metadata": {
    "collapsed": false,
    "ExecuteTime": {
     "end_time": "2024-09-04T09:48:19.068695700Z",
     "start_time": "2024-09-04T09:48:19.011499800Z"
    }
   },
   "id": "5976ab89b86bb7d6",
   "execution_count": 56
  },
  {
   "cell_type": "code",
   "outputs": [
    {
     "data": {
      "text/plain": "array([[70, 22, 95],\n       [16, 19, 96],\n       [34,  7,  2]])"
     },
     "execution_count": 60,
     "metadata": {},
     "output_type": "execute_result"
    }
   ],
   "source": [
    "random_numbers = np.random.rand(3, 3)  # Generates a 3×3 array of random numbers between 0 and 1\n",
    "random_integers = np.random.randint(0, 100, (3,3))\n",
    "random_integers\n"
   ],
   "metadata": {
    "collapsed": false,
    "ExecuteTime": {
     "end_time": "2024-09-04T09:50:34.230974100Z",
     "start_time": "2024-09-04T09:50:34.197661800Z"
    }
   },
   "id": "29195f122318344e",
   "execution_count": 60
  },
  {
   "cell_type": "markdown",
   "source": [
    "The dot product of two arrays can be calculated using np.dot() or the @ operator. The dot product is significant in linear algebra for finding the projection of one vector onto another."
   ],
   "metadata": {
    "collapsed": false
   },
   "id": "b9960a97a71a315c"
  },
  {
   "cell_type": "code",
   "outputs": [
    {
     "name": "stdout",
     "output_type": "stream",
     "text": [
      "32 32\n"
     ]
    }
   ],
   "source": [
    "A = np.array([1, 2, 3])\n",
    "B = np.array([4, 5, 6])\n",
    "dot_product = np.dot(A, B)\n",
    "dot_product2 = A @ B\n",
    "print(dot_product, dot_product2)\n"
   ],
   "metadata": {
    "collapsed": false,
    "ExecuteTime": {
     "end_time": "2024-09-04T09:51:36.691270100Z",
     "start_time": "2024-09-04T09:51:36.659843300Z"
    }
   },
   "id": "8f563cca449ffedb",
   "execution_count": 61
  },
  {
   "cell_type": "code",
   "outputs": [],
   "source": [
    "arr = np.array([1, 2, 3])\n",
    "np.save('saved_array.npy', arr)\n",
    "loaded_array = np.load('saved_array.npy')"
   ],
   "metadata": {
    "collapsed": false
   },
   "id": "75491877ac155786"
  },
  {
   "cell_type": "markdown",
   "source": [
    "np.vectorize() is used to create a vectorized function from a non-vectorized function, allowing it to operate element-wise on arrays."
   ],
   "metadata": {
    "collapsed": false
   },
   "id": "f7bc77699418d284"
  },
  {
   "cell_type": "code",
   "outputs": [
    {
     "data": {
      "text/plain": "array([1, 4, 9])"
     },
     "execution_count": 63,
     "metadata": {},
     "output_type": "execute_result"
    }
   ],
   "source": [
    "def square(x):\n",
    "    return x ** 2\n",
    "\n",
    "vectorized_square = np.vectorize(square)\n",
    "arr = np.array([1, 2, 3])\n",
    "result = vectorized_square(arr)\n",
    "result"
   ],
   "metadata": {
    "collapsed": false,
    "ExecuteTime": {
     "end_time": "2024-09-04T09:52:45.402894500Z",
     "start_time": "2024-09-04T09:52:45.371974200Z"
    }
   },
   "id": "b4e8596ed433864d",
   "execution_count": 63
  },
  {
   "cell_type": "code",
   "outputs": [
    {
     "name": "stdout",
     "output_type": "stream",
     "text": [
      "[ 6 15]\n"
     ]
    },
    {
     "data": {
      "text/plain": "array([5, 7, 9])"
     },
     "execution_count": 69,
     "metadata": {},
     "output_type": "execute_result"
    }
   ],
   "source": [
    "arr = np.array([[1, 2, 3], [4, 5, 6]])\n",
    "# Sum along axis 0 (columns)\n",
    "column_sum = np.sum(arr, axis=0)\n",
    "row_sum = np.sum(arr, axis=1)\n",
    "print(row_sum)\n",
    "column_sum\n"
   ],
   "metadata": {
    "collapsed": false,
    "ExecuteTime": {
     "end_time": "2024-09-04T10:00:06.459358400Z",
     "start_time": "2024-09-04T10:00:06.406131800Z"
    }
   },
   "id": "8990b4097d0bd2e5",
   "execution_count": 69
  },
  {
   "cell_type": "code",
   "outputs": [
    {
     "data": {
      "text/plain": "array([ 3,  6,  9, 12])"
     },
     "execution_count": 76,
     "metadata": {},
     "output_type": "execute_result"
    }
   ],
   "source": [
    "arr = np.array([[1, 2, 3, 4],[1, 2, 3, 4],[1, 2, 3, 4]])\n",
    "# Example of ufunc.reduce(): Multiplication\n",
    "result = np.add.reduce(arr,0)\n",
    "result"
   ],
   "metadata": {
    "collapsed": false,
    "ExecuteTime": {
     "end_time": "2024-09-04T10:02:57.652736900Z",
     "start_time": "2024-09-04T10:02:57.581373200Z"
    }
   },
   "id": "4501ac23e62e016c",
   "execution_count": 76
  },
  {
   "cell_type": "code",
   "outputs": [
    {
     "data": {
      "text/plain": "<Figure size 640x480 with 1 Axes>",
      "image/png": "[encoded data removed]"
     },
     "metadata": {},
     "output_type": "display_data"
    },
    {
     "name": "stdout",
     "output_type": "stream",
     "text": [
      "[[-5 -4 -3 -2 -1  0  1  2  3  4]\n",
      " [-5 -4 -3 -2 -1  0  1  2  3  4]\n",
      " [-5 -4 -3 -2 -1  0  1  2  3  4]\n",
      " [-5 -4 -3 -2 -1  0  1  2  3  4]\n",
      " [-5 -4 -3 -2 -1  0  1  2  3  4]\n",
      " [-5 -4 -3 -2 -1  0  1  2  3  4]\n",
      " [-5 -4 -3 -2 -1  0  1  2  3  4]\n",
      " [-5 -4 -3 -2 -1  0  1  2  3  4]\n",
      " [-5 -4 -3 -2 -1  0  1  2  3  4]\n",
      " [-5 -4 -3 -2 -1  0  1  2  3  4]] [[-5 -5 -5 -5 -5 -5 -5 -5 -5 -5]\n",
      " [-4 -4 -4 -4 -4 -4 -4 -4 -4 -4]\n",
      " [-3 -3 -3 -3 -3 -3 -3 -3 -3 -3]\n",
      " [-2 -2 -2 -2 -2 -2 -2 -2 -2 -2]\n",
      " [-1 -1 -1 -1 -1 -1 -1 -1 -1 -1]\n",
      " [ 0  0  0  0  0  0  0  0  0  0]\n",
      " [ 1  1  1  1  1  1  1  1  1  1]\n",
      " [ 2  2  2  2  2  2  2  2  2  2]\n",
      " [ 3  3  3  3  3  3  3  3  3  3]\n",
      " [ 4  4  4  4  4  4  4  4  4  4]] [[50 41 34 29 26 25 26 29 34 41]\n",
      " [41 32 25 20 17 16 17 20 25 32]\n",
      " [34 25 18 13 10  9 10 13 18 25]\n",
      " [29 20 13  8  5  4  5  8 13 20]\n",
      " [26 17 10  5  2  1  2  5 10 17]\n",
      " [25 16  9  4  1  0  1  4  9 16]\n",
      " [26 17 10  5  2  1  2  5 10 17]\n",
      " [29 20 13  8  5  4  5  8 13 20]\n",
      " [34 25 18 13 10  9 10 13 18 25]\n",
      " [41 32 25 20 17 16 17 20 25 32]]\n"
     ]
    }
   ],
   "source": [
    "import matplotlib.pyplot as plt\n",
    "x = np.arange(-5, 5, 1)\n",
    "y = np.arange(-5, 5, 1)\n",
    "X, Y = np.meshgrid(x, y)\n",
    "Z = X**2 + Y**2\n",
    "plt.contour(X, Y, Z)\n",
    "\n",
    "plt.show()\n",
    "# print(X,Y, Z)"
   ],
   "metadata": {
    "collapsed": false,
    "ExecuteTime": {
     "end_time": "2024-09-04T10:14:10.805590600Z",
     "start_time": "2024-09-04T10:14:10.520112700Z"
    }
   },
   "id": "27474b916eb26b24",
   "execution_count": 88
  },
  {
   "cell_type": "code",
   "outputs": [
    {
     "data": {
      "text/plain": "array([0.        , 0.11111111, 0.22222222, 0.33333333, 0.44444444,\n       0.55555556, 0.66666667, 0.77777778, 0.88888889, 1.        ])"
     },
     "execution_count": 89,
     "metadata": {},
     "output_type": "execute_result"
    }
   ],
   "source": [
    "def normalize_array(arr):\n",
    "    norm_arr = (arr - np.min(arr)) / (np.max(arr) - np.min(arr))\n",
    "    return norm_arr\n",
    "\n",
    "a = np.arange(10)\n",
    "\n",
    "result = normalize_array(a)\n",
    "result"
   ],
   "metadata": {
    "collapsed": false,
    "ExecuteTime": {
     "end_time": "2024-09-04T10:15:33.504661800Z",
     "start_time": "2024-09-04T10:15:33.475353600Z"
    }
   },
   "id": "24dffc5fde1f74c3",
   "execution_count": 89
  }
 ],
 "metadata": {
  "kernelspec": {
   "display_name": "Python 3",
   "language": "python",
   "name": "python3"
  },
  "language_info": {
   "codemirror_mode": {
    "name": "ipython",
    "version": 2
   },
   "file_extension": ".py",
   "mimetype": "text/x-python",
   "name": "python",
   "nbconvert_exporter": "python",
   "pygments_lexer": "ipython2",
   "version": "2.7.6"
  }
 },
 "nbformat": 4,
 "nbformat_minor": 5
}
